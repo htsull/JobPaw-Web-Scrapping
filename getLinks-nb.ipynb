{
 "cells": [
  {
   "cell_type": "code",
   "execution_count": 2,
   "metadata": {},
   "outputs": [],
   "source": [
    "from bs4 import BeautifulSoup\n",
    "import requests\n",
    "import time\n",
    "import pandas as pd"
   ]
  },
  {
   "cell_type": "code",
   "execution_count": 2,
   "metadata": {},
   "outputs": [],
   "source": [
    "headers = {\n",
    "    'User-Agent': 'Mozilla/5.0 (Windows NT 10.0; Win64; x64) AppleWebKit/537.36 (KHTML, like Gecko)'\n",
    "                'Chrome/100.0.4896.88 Safari/537.36'}"
   ]
  },
  {
   "cell_type": "code",
   "execution_count": 3,
   "metadata": {},
   "outputs": [],
   "source": [
    "def getLastPage():\n",
    "    url = \"https://www.jobpaw.com/pont/professionnels.php?id=55\"\n",
    "    r =  requests.get(url, headers=headers)\n",
    "    soup = BeautifulSoup(r.text, 'html.parser')\n",
    "    lastPageButton = soup.find_all('tr')[-1].find_all('li')\n",
    "    numberOfPages = int(str(lastPageButton[2]).split('&')[0].split('=')[2])\n",
    "    return numberOfPages\n",
    "\n",
    "allJobs = []\n",
    "def getJobs(page):\n",
    "    \n",
    "    url = f'https://www.jobpaw.com/pont/professionnels.php?pageNum_RS_job={page}&id=55'\n",
    "    # url = \"https://www.jobpaw.com/pont/professionnels.php?id=55\"\n",
    "    r =  requests.get(url, headers=headers)\n",
    "    # creating the soup\n",
    "    soup = BeautifulSoup(r.text, 'html.parser')\n",
    "    # grabbing the concerned table\n",
    "    jobs = soup.find_all('tr')[8:-2]\n",
    "    \n",
    "    for item in jobs:\n",
    "        listOfJobs = {\n",
    "        'institution' : item.find('td').text.strip(),\n",
    "        'link' : 'https://www.jobpaw.com/pont/professionnels.php' + item.find('a')['href'],\n",
    "        'titre' : item.find_all('td')[1].text.strip(),\n",
    "        'domaine' : item.find_all('td')[2].text.strip(),\n",
    "        'dateLimite' : item.find_all('td')[3].text.strip()\n",
    "    }\n",
    "        allJobs.append(listOfJobs)\n",
    "    return allJobs"
   ]
  },
  {
   "cell_type": "code",
   "execution_count": 4,
   "metadata": {},
   "outputs": [
    {
     "name": "stdout",
     "output_type": "stream",
     "text": [
      "There are 246 pages to scrape\n",
      "Beginning...\n",
      "[████████████████████████████████████████████████████████████ 100%] 246/246\n",
      "Now creating the jobPawLinks.xlsx file...\n",
      "Finished...\n",
      "# Now ready for phase 2 #\n"
     ]
    }
   ],
   "source": [
    "lastPage = getLastPage()\n",
    "\n",
    "print(f'There are {lastPage} pages to scrape')\n",
    "print(f'Beginning...', flush=True)\n",
    "\n",
    "# Defining a progress bar to make things looks nice\n",
    "# credit to https://stackoverflow.com/a/61295200/9915482\n",
    "def print_progressbar(total, current, barsize=60):\n",
    "    progress = int(current * barsize / total)\n",
    "    completed = str(int(current * 100 / total)) + '%'\n",
    "    print('[', chr(9608) * progress, ' ', completed, '.' * (barsize - progress), '] ',\n",
    "          str(current) + '/' + str(total), sep='', end='\\r', flush=True)\n",
    "\n",
    "\n",
    "print_frequency = max(min(lastPage // 50, 100), 1)\n",
    "\n",
    "for i in range(0, lastPage + 1, 1):\n",
    "    if i % 5 == 0:\n",
    "        time.sleep(2)\n",
    "        getJobs(i)\n",
    "    else:\n",
    "        getJobs(i)\n",
    "    print_progressbar(lastPage, i)\n",
    "\n",
    "print('\\nNow creating the jobPawLinks.xlsx file...')\n",
    "\n",
    "pd.DataFrame(allJobs).to_excel('jobPawLinks.xlsx', index=False)\n",
    "\n",
    "print(f\"Finished...\", flush=True)\n",
    "\n",
    "print('# Now ready for phase 2 #')"
   ]
  }
 ],
 "metadata": {
  "kernelspec": {
   "display_name": "Python 3.10.8 ('python-ready')",
   "language": "python",
   "name": "python3"
  },
  "language_info": {
   "codemirror_mode": {
    "name": "ipython",
    "version": 3
   },
   "file_extension": ".py",
   "mimetype": "text/x-python",
   "name": "python",
   "nbconvert_exporter": "python",
   "pygments_lexer": "ipython3",
   "version": "3.10.8"
  },
  "orig_nbformat": 4,
  "vscode": {
   "interpreter": {
    "hash": "94e324de021c884c5c8b4c7bfa85ecfeca44ff9df5b038761703f4af545aa161"
   }
  }
 },
 "nbformat": 4,
 "nbformat_minor": 2
}
